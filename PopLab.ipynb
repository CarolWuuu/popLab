{
  "nbformat": 4,
  "nbformat_minor": 0,
  "metadata": {
    "colab": {
      "provenance": [],
      "authorship_tag": "ABX9TyMuwFxX/iff6zpDkg005asb",
      "include_colab_link": true
    },
    "kernelspec": {
      "name": "python3",
      "display_name": "Python 3"
    },
    "language_info": {
      "name": "python"
    }
  },
  "cells": [
    {
      "cell_type": "markdown",
      "metadata": {
        "id": "view-in-github",
        "colab_type": "text"
      },
      "source": [
        "<a href=\"https://colab.research.google.com/github/CarolWuuu/popLab/blob/main/PopLab.ipynb\" target=\"_parent\"><img src=\"https://colab.research.google.com/assets/colab-badge.svg\" alt=\"Open In Colab\"/></a>"
      ]
    },
    {
      "cell_type": "code",
      "execution_count": 8,
      "metadata": {
        "colab": {
          "base_uri": "https://localhost:8080/"
        },
        "id": "MvfAuR78ydxH",
        "outputId": "16c7d3c6-5db5-4936-b090-042289947f34"
      },
      "outputs": [
        {
          "output_type": "stream",
          "name": "stdout",
          "text": [
            "API Key: wngcg1jLi0VNxu45a6kK6qyU8VH1k050\n",
            "https://aeroapi.flightaware.com/aeroapi/flights/N350XX\n",
            "<Response [200]>\n",
            "{'tail_number': 'N350XX', 'destination': 'Fort Lauderdale Intl', 'destination_city': 'Fort Lauderdale', 'destination_code': 'KFLL'}\n",
            "https://aeroapi.flightaware.com/aeroapi/flights/N621MM\n",
            "<Response [200]>\n",
            "{'tail_number': 'N621MM', 'error': 'No flight data available'}\n",
            "https://aeroapi.flightaware.com/aeroapi/flights/N2020A\n",
            "<Response [200]>\n",
            "{'tail_number': 'N2020A', 'destination': None, 'destination_city': 'Natchitoches', 'destination_code': 'L 31.52142 -93.40614'}\n"
          ]
        }
      ],
      "source": [
        "import requests\n",
        "\n",
        "# Replace with your actual FlightAware AeroAPI key\n",
        "apiKey = input(\"API Key: \")\n",
        "\n",
        "# Celebrity jet tail numbers\n",
        "jets = [\"N350XX\", \"N621MM\", \"N2020A\"]\n",
        "\n",
        "def get_flight_info(tail_number):\n",
        "    url = f\"https://aeroapi.flightaware.com/aeroapi/flights/{tail_number}\"\n",
        "    print(url)\n",
        "    headers = {\"x-apikey\": apiKey}\n",
        "\n",
        "    response = requests.get(url, headers=headers)\n",
        "    print(response)\n",
        "\n",
        "    if response.status_code == 200:\n",
        "        data = response.json()\n",
        "        # Extract destination info\n",
        "        if \"flights\" in data and len(data[\"flights\"]) > 0:\n",
        "            destination_info = data[\"flights\"][0].get(\"destination\", {})\n",
        "            destination = destination_info.get(\"name\", \"Unknown\")\n",
        "            city = destination_info.get(\"city\", \"Unknown\")\n",
        "            code = destination_info.get(\"code\", \"Unknown\")\n",
        "\n",
        "            return {\n",
        "                \"tail_number\": tail_number,\n",
        "                \"destination\": destination,\n",
        "                \"destination_city\": city,\n",
        "                \"destination_code\": code\n",
        "            }\n",
        "        else:\n",
        "            return {\"tail_number\": tail_number, \"error\": \"No flight data available\"}\n",
        "    else:\n",
        "        return {\"tail_number\": tail_number, \"error\": f\"Could not fetch data ({response.status_code})\"}\n",
        "\n",
        "if __name__ == \"__main__\":\n",
        "    for jet in jets:\n",
        "        flight_info = get_flight_info(jet)\n",
        "        print(flight_info)"
      ]
    }
  ]
}